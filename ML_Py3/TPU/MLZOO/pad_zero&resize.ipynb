{
 "cells": [
  {
   "cell_type": "code",
   "execution_count": 1,
   "id": "5d914f7e",
   "metadata": {},
   "outputs": [],
   "source": [
    "import numpy as np\n",
    "\n",
    "# 读取文件并转换为整数数组\n",
    "with open('weights_0.txt', 'r') as f:\n",
    "    data = f.read().strip().split()\n",
    "    data = np.array([int(float(x)) for x in data])  # 转换为整数\n",
    "\n",
    "# 设置分组参数\n",
    "x, y, z = 128, 640, 784  # 假设 x*y 为每组的数量，z 为每组的目标长度\n",
    "\n",
    "# 分组数据\n",
    "groups = [data[i * y:(i + 1) * y] for i in range(x)]\n",
    "\n",
    "# 对每组补 0\n",
    "padded_groups = [np.pad(group, (0, max(0, z - len(group))), 'constant', constant_values=0) for group in groups]\n",
    "\n",
    "# 转换为数组并保存到新的文件\n",
    "padded_array = np.array(padded_groups)\n",
    "np.savetxt('padded_weight_0.txt', padded_array, fmt='%d')  # 使用整数格式保存"
   ]
  },
  {
   "cell_type": "code",
   "execution_count": 2,
   "id": "abc18c55",
   "metadata": {},
   "outputs": [
    {
     "data": {
      "text/plain": [
       "100352"
      ]
     },
     "execution_count": 2,
     "metadata": {},
     "output_type": "execute_result"
    }
   ],
   "source": [
    "padded_array.size"
   ]
  },
  {
   "cell_type": "code",
   "execution_count": 6,
   "id": "43171f07",
   "metadata": {},
   "outputs": [
    {
     "name": "stdout",
     "output_type": "stream",
     "text": [
      "文件 padded_weight_0.txt 的行数不足14的整数倍，已补充 12 行。\n",
      "数据已成功从 padded_weight_0.txt 读取、排列并保存到 formatted_padded_weight_0.txt\n",
      "文件 padded_weight_1.txt 的行数不足14的整数倍，已补充 12 行。\n",
      "数据已成功从 padded_weight_1.txt 读取、排列并保存到 formatted_padded_weight_1.txt\n",
      "文件 padded_weight_2.txt 的行数不足14的整数倍，已补充 12 行。\n",
      "数据已成功从 padded_weight_2.txt 读取、排列并保存到 formatted_padded_weight_2.txt\n",
      "文件 padded_weight_3.txt 的行数不足14的整数倍，已补充 12 行。\n",
      "数据已成功从 padded_weight_3.txt 读取、排列并保存到 formatted_padded_weight_3.txt\n",
      "文件 padded_weight_4.txt 的行数不足14的整数倍，已补充 6 行。\n",
      "数据已成功从 padded_weight_4.txt 读取、排列并保存到 formatted_padded_weight_4.txt\n",
      "文件 padded_weight_5.txt 的行数不足14的整数倍，已补充 12 行。\n",
      "数据已成功从 padded_weight_5.txt 读取、排列并保存到 formatted_padded_weight_5.txt\n",
      "文件 padded_weight_6.txt 的行数不足14的整数倍，已补充 12 行。\n",
      "数据已成功从 padded_weight_6.txt 读取、排列并保存到 formatted_padded_weight_6.txt\n",
      "文件 padded_weight_7.txt 的行数不足14的整数倍，已补充 12 行。\n",
      "数据已成功从 padded_weight_7.txt 读取、排列并保存到 formatted_padded_weight_7.txt\n",
      "文件 padded_weight_8.txt 的行数不足14的整数倍，已补充 12 行。\n",
      "数据已成功从 padded_weight_8.txt 读取、排列并保存到 formatted_padded_weight_8.txt\n",
      "文件 padded_weight_9.txt 的行数不足14的整数倍，已补充 4 行。\n",
      "数据已成功从 padded_weight_9.txt 读取、排列并保存到 formatted_padded_weight_9.txt\n"
     ]
    }
   ],
   "source": [
    "# import numpy as np\n",
    "\n",
    "# # 遍历文件并处理\n",
    "# for n in range(10):\n",
    "#     # 读取当前文件的数据并展平成一维数组\n",
    "#     filename = f'padded_weight_{n}.txt'\n",
    "#     data = np.loadtxt(filename, dtype=int).flatten()  # 将数据展平为一维数组\n",
    "\n",
    "#     # 检查数据数量是否为 196 的整数倍，不足则补零\n",
    "#     if len(data) % 196 != 0:\n",
    "#         padding_needed = 196 - (len(data) % 196)\n",
    "#         data = np.pad(data, (0, padding_needed), 'constant', constant_values=0)\n",
    "#         print(f\"文件 {filename} 的数据不足196的整数倍，已补充 {padding_needed} 个零。\")\n",
    "\n",
    "#     # 将数据分为多个 14x14 块\n",
    "#     num_blocks = len(data) // 196\n",
    "#     reshaped_data = data.reshape(num_blocks, 14, 14)  # 每块重构为 14x14\n",
    "\n",
    "#     # 打开输出文件\n",
    "#     output_filename = f'formatted_padded_weight_{n}.txt'\n",
    "#     with open(output_filename, 'w') as f:\n",
    "#         for block in reshaped_data:\n",
    "#             for row in block:\n",
    "#                 # 将每行数据格式化为 [17,-3,72,...,0,0,0,0] 的格式\n",
    "#                 formatted_row = \"[\" + \",\".join(map(str, row)) + \"]\"\n",
    "#                 f.write(formatted_row + \"\\n\")\n",
    "\n",
    "#     print(f\"数据已成功从 {filename} 读取、排列并保存到 {output_filename}\")\n",
    "import numpy as np\n",
    "\n",
    "# 遍历文件并处理\n",
    "for n in range(10):\n",
    "    # 读取当前文件的数据，保持二维数组形式\n",
    "    filename = f'padded_weight_{n}.txt'\n",
    "    data = np.loadtxt(filename, dtype=int)  # 保持原始二维形状\n",
    "\n",
    "    # 检查数据的行数是否为 14 的整数倍\n",
    "    num_rows, num_cols = data.shape\n",
    "    if num_rows % 14 != 0:\n",
    "        padding_needed = 14 - (num_rows % 14)\n",
    "        padding_rows = np.zeros((padding_needed, num_cols), dtype=int)  # 创建全零行\n",
    "        data = np.vstack((data, padding_rows))  # 将全零行添加到数据的末尾\n",
    "        print(f\"文件 {filename} 的行数不足14的整数倍，已补充 {padding_needed} 行。\")\n",
    "\n",
    "    # 将数据展平并分块\n",
    "    flattened_data = data.flatten()  # 展平为一维数组\n",
    "    num_blocks = len(flattened_data) // 196  # 每块 14x14，共 196 个元素\n",
    "    reshaped_blocks = flattened_data.reshape(num_blocks, 14, 14)\n",
    "\n",
    "    # 打开输出文件\n",
    "    output_filename = f'formatted_padded_weight_{n}.txt'\n",
    "    with open(output_filename, 'w') as f:\n",
    "        for block in reshaped_blocks:\n",
    "            for row in block:\n",
    "                # 将每行数据格式化为 [17,-3,72,...,0,0,0,0] 的格式\n",
    "                formatted_row = \"[\" + \",\".join(map(str, row)) + \"]\"\n",
    "                f.write(formatted_row + \"\\n\")\n",
    "\n",
    "    print(f\"数据已成功从 {filename} 读取、排列并保存到 {output_filename}\")\n"
   ]
  },
  {
   "cell_type": "code",
   "execution_count": 7,
   "id": "2fae7f12",
   "metadata": {},
   "outputs": [
    {
     "name": "stdout",
     "output_type": "stream",
     "text": [
      "所有文件已成功合并到 'merged_formatted_padded_weight.txt'\n"
     ]
    }
   ],
   "source": [
    "# 打开合并文件进行写入\n",
    "with open('merged_formatted_padded_weight.txt', 'w') as outfile:\n",
    "    # 遍历每个 `formatted_padded_weight_{n}.txt` 文件\n",
    "    for n in range(10):\n",
    "        filename = f'formatted_padded_weight_{n}.txt'\n",
    "        with open(filename, 'r') as infile:\n",
    "            # 读取当前文件的所有内容并写入合并文件\n",
    "            for line in infile:\n",
    "                outfile.write(line)\n",
    "            # 添加一个换行，以便不同文件的内容间隔清晰（可选）\n",
    "#             outfile.write(\"\\n\")\n",
    "\n",
    "print(\"所有文件已成功合并到 'merged_formatted_padded_weight.txt'\")\n"
   ]
  },
  {
   "cell_type": "code",
   "execution_count": 8,
   "id": "313e790a",
   "metadata": {},
   "outputs": [
    {
     "name": "stdout",
     "output_type": "stream",
     "text": [
      "文件已成功读取并保存到 'weights.txt'，并添加了开头和结尾的标记。\n"
     ]
    }
   ],
   "source": [
    "# 打开源文件和目标文件\n",
    "with open('merged_formatted_padded_weight.txt', 'r') as infile, open('weights.txt', 'w') as outfile:\n",
    "    # 写入开头标记\n",
    "    outfile.write(\"weights:[\\n\")\n",
    "    \n",
    "    # 逐行读取 `merged_formatted_padded_weight.txt` 内容并写入新文件\n",
    "    for line in infile:\n",
    "        outfile.write(line)\n",
    "    \n",
    "    # 写入结尾标记\n",
    "    outfile.write(\"]\\n\")\n",
    "\n",
    "print(\"文件已成功读取并保存到 'weights.txt'，并添加了开头和结尾的标记。\")\n"
   ]
  }
 ],
 "metadata": {
  "kernelspec": {
   "display_name": "Python 3 (ipykernel)",
   "language": "python",
   "name": "python3"
  },
  "language_info": {
   "codemirror_mode": {
    "name": "ipython",
    "version": 3
   },
   "file_extension": ".py",
   "mimetype": "text/x-python",
   "name": "python",
   "nbconvert_exporter": "python",
   "pygments_lexer": "ipython3",
   "version": "3.11.5"
  }
 },
 "nbformat": 4,
 "nbformat_minor": 5
}
