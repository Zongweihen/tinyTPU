{
 "cells": [
  {
   "cell_type": "code",
   "execution_count": 4,
   "id": "10a86a44",
   "metadata": {},
   "outputs": [],
   "source": [
    "import numpy as np\n",
    "\n",
    "# 遍历文件并处理\n",
    "for n in range(10):\n",
    "    # 读取当前文件的数据，保持二维数组形式\n",
    "    filename = f'data.txt'\n",
    "    data = np.loadtxt(filename, dtype=int)  # 保持原始二维形状\n",
    "    \n",
    "    flattened_data = data.flatten()  # 展平为一维数组\n",
    "    num_blocks = len(flattened_data) // 196  # 每块 14x14，共 196 个元素\n",
    "    reshaped_blocks = flattened_data.reshape(num_blocks, 14, 14)\n",
    "\n",
    "    # 打开输出文件\n",
    "    output_filename = f'data_resize.txt'\n",
    "    with open(output_filename, 'w') as f:\n",
    "        for block in reshaped_blocks:\n",
    "            for row in block:\n",
    "                # 将每行数据格式化为 [17,-3,72,...,0,0,0,0] 的格式\n",
    "                formatted_row = \"[\" + \",\".join(map(str, row)) + \"]\"\n",
    "                f.write(formatted_row + \"\\n\")\n"
   ]
  },
  {
   "cell_type": "code",
   "execution_count": 5,
   "id": "394ad6ba",
   "metadata": {},
   "outputs": [
    {
     "name": "stdout",
     "output_type": "stream",
     "text": [
      "文件已成功读取并保存到 'inputs.txt'，并添加了开头和结尾的标记。\n"
     ]
    }
   ],
   "source": [
    "with open('data_resize.txt', 'r') as infile, open('inputs.txt', 'w') as outfile:\n",
    "    # 写入开头标记\n",
    "    outfile.write(\"inputs:[\\n\")\n",
    "    \n",
    "    # 逐行读取 `merged_formatted_padded_weight.txt` 内容并写入新文件\n",
    "    for line in infile:\n",
    "        outfile.write(line)\n",
    "    \n",
    "    # 写入结尾标记\n",
    "    outfile.write(\"]\\n\")\n",
    "\n",
    "print(\"文件已成功读取并保存到 'inputs.txt'，并添加了开头和结尾的标记。\")"
   ]
  }
 ],
 "metadata": {
  "kernelspec": {
   "display_name": "Python 3 (ipykernel)",
   "language": "python",
   "name": "python3"
  },
  "language_info": {
   "codemirror_mode": {
    "name": "ipython",
    "version": 3
   },
   "file_extension": ".py",
   "mimetype": "text/x-python",
   "name": "python",
   "nbconvert_exporter": "python",
   "pygments_lexer": "ipython3",
   "version": "3.11.5"
  }
 },
 "nbformat": 4,
 "nbformat_minor": 5
}
