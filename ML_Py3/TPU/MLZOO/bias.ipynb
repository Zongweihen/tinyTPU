{
 "cells": [
  {
   "cell_type": "code",
   "execution_count": 6,
   "id": "4c414e46",
   "metadata": {},
   "outputs": [
    {
     "name": "stdout",
     "output_type": "stream",
     "text": [
      "VHDL 文件已成功生成！\n"
     ]
    }
   ],
   "source": [
    "import numpy as np\n",
    "\n",
    "# 参数设置\n",
    "num_files = 10  # 假设文件 bias_0.txt 至 bias_9.txt\n",
    "array_name = \"bias_array\"  # VHDL 中的数组名称\n",
    "element_per_line = 14  # 每行输出的元素数量，便于阅读\n",
    "\n",
    "# 打开输出文件\n",
    "vhdl_file = open(\"generated_bias.vhdl\", \"w\")\n",
    "\n",
    "# 写入 VHDL 文件头\n",
    "vhdl_file.write(f\"-- Automatically generated VHDL code for 32-bit signed bias values\\n\")\n",
    "vhdl_file.write(f\"library IEEE;\\nuse IEEE.STD_LOGIC_1164.ALL;\\nuse IEEE.NUMERIC_STD.ALL;\\n\\n\")\n",
    "vhdl_file.write(f\"package bias_package is\\n\")\n",
    "vhdl_file.write(f\"    type {array_name}_type is array (natural range <>) of integer range -2147483648 to 2147483647;\\n\")\n",
    "vhdl_file.write(f\"    constant {array_name}: {array_name}_type := (\\n\")\n",
    "\n",
    "# 整合所有文件中的偏置数据\n",
    "all_biases = []\n",
    "\n",
    "for n in range(num_files):\n",
    "    filename = f\"bias_{n}.txt\"\n",
    "    bias_data = np.loadtxt(filename, dtype=int)  # 加载一维偏置数据\n",
    "    all_biases.extend(bias_data)  # 将当前文件的偏置数据追加到总列表中\n",
    "\n",
    "# 写入整合后的偏置数据到数组中\n",
    "for i, value in enumerate(all_biases):\n",
    "    comma = \",\" if i < len(all_biases) - 1 else \"\"\n",
    "    if i % element_per_line == 0 and i > 0:  # 换行逻辑\n",
    "        vhdl_file.write(\"\\n\")\n",
    "    vhdl_file.write(f\"{value}{comma}\")\n",
    "\n",
    "# 写入文件尾\n",
    "vhdl_file.write(f\"\\n    );\\n\")\n",
    "vhdl_file.write(f\"end package bias_package;\\n\")\n",
    "\n",
    "# 关闭文件\n",
    "vhdl_file.close()\n",
    "\n",
    "print(\"VHDL 文件已成功生成！\")\n"
   ]
  },
  {
   "cell_type": "code",
   "execution_count": 5,
   "id": "a6f2e039",
   "metadata": {},
   "outputs": [
    {
     "ename": "TypeError",
     "evalue": "'int' object is not callable",
     "output_type": "error",
     "traceback": [
      "\u001b[1;31m---------------------------------------------------------------------------\u001b[0m",
      "\u001b[1;31mTypeError\u001b[0m                                 Traceback (most recent call last)",
      "Cell \u001b[1;32mIn[5], line 1\u001b[0m\n\u001b[1;32m----> 1\u001b[0m bias_data\u001b[38;5;241m.\u001b[39msize()\n",
      "\u001b[1;31mTypeError\u001b[0m: 'int' object is not callable"
     ]
    }
   ],
   "source": [
    "bias_data.size()"
   ]
  }
 ],
 "metadata": {
  "kernelspec": {
   "display_name": "Python 3 (ipykernel)",
   "language": "python",
   "name": "python3"
  },
  "language_info": {
   "codemirror_mode": {
    "name": "ipython",
    "version": 3
   },
   "file_extension": ".py",
   "mimetype": "text/x-python",
   "name": "python",
   "nbconvert_exporter": "python",
   "pygments_lexer": "ipython3",
   "version": "3.11.5"
  }
 },
 "nbformat": 4,
 "nbformat_minor": 5
}
